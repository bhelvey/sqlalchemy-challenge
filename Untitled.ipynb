{
 "cells": [
  {
   "cell_type": "code",
   "execution_count": 1,
   "metadata": {},
   "outputs": [],
   "source": [
    "import pandas as pd"
   ]
  },
  {
   "cell_type": "code",
   "execution_count": 7,
   "metadata": {},
   "outputs": [],
   "source": [
    "data = pd.read_html(\"https://lol.gamepedia.com/Match_History_Index\")"
   ]
  },
  {
   "cell_type": "code",
   "execution_count": 27,
   "metadata": {},
   "outputs": [],
   "source": [
    "data1 = data[0][\"MH\"]"
   ]
  },
  {
   "cell_type": "code",
   "execution_count": 29,
   "metadata": {},
   "outputs": [],
   "source": [
    "data2 = pd.DataFrame(data1)"
   ]
  },
  {
   "cell_type": "code",
   "execution_count": 30,
   "metadata": {},
   "outputs": [
    {
     "data": {
      "text/html": [
       "<div>\n",
       "<style scoped>\n",
       "    .dataframe tbody tr th:only-of-type {\n",
       "        vertical-align: middle;\n",
       "    }\n",
       "\n",
       "    .dataframe tbody tr th {\n",
       "        vertical-align: top;\n",
       "    }\n",
       "\n",
       "    .dataframe thead th {\n",
       "        text-align: right;\n",
       "    }\n",
       "</style>\n",
       "<table border=\"1\" class=\"dataframe\">\n",
       "  <thead>\n",
       "    <tr style=\"text-align: right;\">\n",
       "      <th></th>\n",
       "      <th>MH</th>\n",
       "    </tr>\n",
       "  </thead>\n",
       "  <tbody>\n",
       "    <tr>\n",
       "      <th>0</th>\n",
       "      <td>https://matchhistory.na.leagueoflegends.com/en...</td>\n",
       "    </tr>\n",
       "    <tr>\n",
       "      <th>1</th>\n",
       "      <td>https://matchhistory.na.leagueoflegends.com/en...</td>\n",
       "    </tr>\n",
       "    <tr>\n",
       "      <th>2</th>\n",
       "      <td>https://matchhistory.na.leagueoflegends.com/en...</td>\n",
       "    </tr>\n",
       "    <tr>\n",
       "      <th>3</th>\n",
       "      <td>https://matchhistory.na.leagueoflegends.com/en...</td>\n",
       "    </tr>\n",
       "    <tr>\n",
       "      <th>4</th>\n",
       "      <td>https://matchhistory.br.leagueoflegends.com/pt...</td>\n",
       "    </tr>\n",
       "    <tr>\n",
       "      <th>...</th>\n",
       "      <td>...</td>\n",
       "    </tr>\n",
       "    <tr>\n",
       "      <th>495</th>\n",
       "      <td>http://matchhistory.na.leagueoflegends.com/en/...</td>\n",
       "    </tr>\n",
       "    <tr>\n",
       "      <th>496</th>\n",
       "      <td>http://matchhistory.na.leagueoflegends.com/en/...</td>\n",
       "    </tr>\n",
       "    <tr>\n",
       "      <th>497</th>\n",
       "      <td>http://matchhistory.na.leagueoflegends.com/en/...</td>\n",
       "    </tr>\n",
       "    <tr>\n",
       "      <th>498</th>\n",
       "      <td>https://lpl.qq.com/es/stats.shtml?bmid=6145</td>\n",
       "    </tr>\n",
       "    <tr>\n",
       "      <th>499</th>\n",
       "      <td>https://lpl.qq.com/es/stats.shtml?bmid=6147</td>\n",
       "    </tr>\n",
       "  </tbody>\n",
       "</table>\n",
       "<p>500 rows × 1 columns</p>\n",
       "</div>"
      ],
      "text/plain": [
       "                                                    MH\n",
       "0    https://matchhistory.na.leagueoflegends.com/en...\n",
       "1    https://matchhistory.na.leagueoflegends.com/en...\n",
       "2    https://matchhistory.na.leagueoflegends.com/en...\n",
       "3    https://matchhistory.na.leagueoflegends.com/en...\n",
       "4    https://matchhistory.br.leagueoflegends.com/pt...\n",
       "..                                                 ...\n",
       "495  http://matchhistory.na.leagueoflegends.com/en/...\n",
       "496  http://matchhistory.na.leagueoflegends.com/en/...\n",
       "497  http://matchhistory.na.leagueoflegends.com/en/...\n",
       "498        https://lpl.qq.com/es/stats.shtml?bmid=6145\n",
       "499        https://lpl.qq.com/es/stats.shtml?bmid=6147\n",
       "\n",
       "[500 rows x 1 columns]"
      ]
     },
     "execution_count": 30,
     "metadata": {},
     "output_type": "execute_result"
    }
   ],
   "source": [
    "data2"
   ]
  },
  {
   "cell_type": "code",
   "execution_count": 31,
   "metadata": {},
   "outputs": [
    {
     "data": {
      "text/plain": [
       "[           Start Time (UTC)                      Event  \\\n",
       " 0     2020-05-25 2:00:00 AM            LTL 2020 Season   \n",
       " 1     2020-05-25 2:00:00 AM            LTL 2020 Season   \n",
       " 2    2020-05-25 12:00:00 AM            LTL 2020 Season   \n",
       " 3    2020-05-25 12:00:00 AM            LTL 2020 Season   \n",
       " 4     2020-05-24 6:30:00 PM  Gamers Club Rift Season 2   \n",
       " ..                      ...                        ...   \n",
       " 495   2020-04-21 8:00:00 AM    CK 2020 Spring Playoffs   \n",
       " 496   2020-04-21 8:00:00 AM    CK 2020 Spring Playoffs   \n",
       " 497   2020-04-21 8:00:00 AM    CK 2020 Spring Playoffs   \n",
       " 498   2020-04-21 7:00:00 AM            LDL 2020 Spring   \n",
       " 499   2020-04-21 7:00:00 AM            LDL 2020 Spring   \n",
       " \n",
       "                                                     MH  \n",
       " 0    https://matchhistory.na.leagueoflegends.com/en...  \n",
       " 1    https://matchhistory.na.leagueoflegends.com/en...  \n",
       " 2    https://matchhistory.na.leagueoflegends.com/en...  \n",
       " 3    https://matchhistory.na.leagueoflegends.com/en...  \n",
       " 4    https://matchhistory.br.leagueoflegends.com/pt...  \n",
       " ..                                                 ...  \n",
       " 495  http://matchhistory.na.leagueoflegends.com/en/...  \n",
       " 496  http://matchhistory.na.leagueoflegends.com/en/...  \n",
       " 497  http://matchhistory.na.leagueoflegends.com/en/...  \n",
       " 498        https://lpl.qq.com/es/stats.shtml?bmid=6145  \n",
       " 499        https://lpl.qq.com/es/stats.shtml?bmid=6147  \n",
       " \n",
       " [500 rows x 3 columns]]"
      ]
     },
     "execution_count": 31,
     "metadata": {},
     "output_type": "execute_result"
    }
   ],
   "source": [
    "data"
   ]
  },
  {
   "cell_type": "code",
   "execution_count": null,
   "metadata": {},
   "outputs": [],
   "source": []
  }
 ],
 "metadata": {
  "kernelspec": {
   "display_name": "Python 3",
   "language": "python",
   "name": "python3"
  },
  "language_info": {
   "codemirror_mode": {
    "name": "ipython",
    "version": 3
   },
   "file_extension": ".py",
   "mimetype": "text/x-python",
   "name": "python",
   "nbconvert_exporter": "python",
   "pygments_lexer": "ipython3",
   "version": "3.7.6"
  }
 },
 "nbformat": 4,
 "nbformat_minor": 4
}
